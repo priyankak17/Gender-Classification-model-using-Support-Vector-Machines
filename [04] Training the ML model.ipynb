{
 "cells": [
  {
   "cell_type": "code",
   "execution_count": 1,
   "id": "05c92a02",
   "metadata": {},
   "outputs": [],
   "source": [
    "import numpy as np\n",
    "import pandas as pd\n",
    "\n",
    "\n",
    "from sklearn.model_selection import train_test_split\n",
    "from sklearn.svm import SVC\n",
    "from sklearn.model_selection import GridSearchCV\n",
    "from sklearn import metrics\n",
    "\n"
   ]
  },
  {
   "cell_type": "code",
   "execution_count": 2,
   "id": "f4e8adb7",
   "metadata": {},
   "outputs": [
    {
     "data": {
      "text/plain": [
       "['arr_0', 'arr_1']"
      ]
     },
     "execution_count": 2,
     "metadata": {},
     "output_type": "execute_result"
    }
   ],
   "source": [
    "#load numpy array\n",
    "\n",
    "data = np.load('./data/pri_data_pca_50_target.npz')\n",
    "data.files"
   ]
  },
  {
   "cell_type": "code",
   "execution_count": 3,
   "id": "99d6ce2b",
   "metadata": {},
   "outputs": [],
   "source": [
    "data.allow_pickle = True"
   ]
  },
  {
   "cell_type": "code",
   "execution_count": 4,
   "id": "b28b54f4",
   "metadata": {},
   "outputs": [],
   "source": [
    "X = data['arr_0'] #pca with 50 components\n",
    "Y = data['arr_1'] #gender variables"
   ]
  },
  {
   "cell_type": "code",
   "execution_count": 5,
   "id": "ced0ab73",
   "metadata": {},
   "outputs": [
    {
     "data": {
      "text/plain": [
       "((4319, 50), (4319,))"
      ]
     },
     "execution_count": 5,
     "metadata": {},
     "output_type": "execute_result"
    }
   ],
   "source": [
    "X.shape, Y.shape"
   ]
  },
  {
   "cell_type": "code",
   "execution_count": 6,
   "id": "9e7d112e",
   "metadata": {},
   "outputs": [
    {
     "data": {
      "text/plain": [
       "array([[ 0.87500479,  0.25726321,  0.2497782 , ...,  0.9083734 ,\n",
       "        -0.12257948, -0.60648072],\n",
       "       [ 1.17320121, -0.23166085,  0.32997371, ..., -0.99894255,\n",
       "         0.73620793,  1.70836639],\n",
       "       [-0.7846088 , -0.32022847,  0.35730457, ..., -0.62253751,\n",
       "         1.00815899,  1.60921544],\n",
       "       ...,\n",
       "       [ 1.32978927,  0.62625788, -1.24674449, ...,  1.49936503,\n",
       "         1.42904642,  0.97104247],\n",
       "       [-1.23761691, -0.43789963, -0.43623775, ..., -0.53505545,\n",
       "         0.60400384, -0.79097151],\n",
       "       [ 1.2394078 ,  0.94157044,  0.11207923, ...,  0.34329051,\n",
       "         0.06169439,  0.02482428]])"
      ]
     },
     "execution_count": 6,
     "metadata": {},
     "output_type": "execute_result"
    }
   ],
   "source": [
    "X"
   ]
  },
  {
   "cell_type": "code",
   "execution_count": 7,
   "id": "7fd464d5",
   "metadata": {},
   "outputs": [
    {
     "data": {
      "text/plain": [
       "array(['female', 'female', 'female', ..., 'male', 'male', 'male'],\n",
       "      dtype=object)"
      ]
     },
     "execution_count": 7,
     "metadata": {},
     "output_type": "execute_result"
    }
   ],
   "source": [
    "Y"
   ]
  },
  {
   "cell_type": "markdown",
   "id": "e6cd4884",
   "metadata": {},
   "source": [
    "# Split the data for training and testing"
   ]
  },
  {
   "cell_type": "code",
   "execution_count": 8,
   "id": "2a57af4c",
   "metadata": {},
   "outputs": [],
   "source": [
    "x_test, x_train, y_test, y_train = train_test_split(X,Y, test_size = 0.2, stratify = Y) #applying stratified sampling"
   ]
  },
  {
   "cell_type": "code",
   "execution_count": 9,
   "id": "6f2d4686",
   "metadata": {},
   "outputs": [
    {
     "data": {
      "text/plain": [
       "((3455, 50), (864, 50), (3455,), (864,))"
      ]
     },
     "execution_count": 9,
     "metadata": {},
     "output_type": "execute_result"
    }
   ],
   "source": [
    "x_test.shape, x_train.shape, y_test.shape, y_train.shape"
   ]
  },
  {
   "cell_type": "markdown",
   "id": "74fb0479",
   "metadata": {},
   "source": [
    "# Training the ML model"
   ]
  },
  {
   "cell_type": "code",
   "execution_count": 10,
   "id": "d2a0faab",
   "metadata": {},
   "outputs": [],
   "source": [
    "model_svc = SVC(probability = True)\n",
    "\n",
    "#ref: https://www.vebuso.com/2020/03/svm-hyperparameter-tuning-using-gridsearchcv/\n",
    "\n",
    "param_grid = {'C':[0.5, 1,10,20,30,50],                     #Create a dictionary called param_grid and fill out some parameters for kernels, C and gamma\n",
    "                 'kernel':['rbf', 'poly'],                      \n",
    "                 'gamma':[0.1,0.05,0.01,0.001,0.002,0.005],\n",
    "                 'coef0':[0,1]}"
   ]
  },
  {
   "cell_type": "code",
   "execution_count": 11,
   "id": "c0668c84",
   "metadata": {},
   "outputs": [],
   "source": [
    "model_grid = GridSearchCV(model_svc, \n",
    "                          param_grid = param_grid , \n",
    "                          scoring = 'accuracy',\n",
    "                          cv = 3,\n",
    "                          verbose = 2)"
   ]
  },
  {
   "cell_type": "code",
   "execution_count": null,
   "id": "323aad74",
   "metadata": {},
   "outputs": [
    {
     "name": "stdout",
     "output_type": "stream",
     "text": [
      "Fitting 3 folds for each of 144 candidates, totalling 432 fits\n",
      "[CV] END ..............C=0.5, coef0=0, gamma=0.1, kernel=rbf; total time=   0.0s\n",
      "[CV] END ..............C=0.5, coef0=0, gamma=0.1, kernel=rbf; total time=   0.1s\n",
      "[CV] END ..............C=0.5, coef0=0, gamma=0.1, kernel=rbf; total time=   0.0s\n",
      "[CV] END .............C=0.5, coef0=0, gamma=0.1, kernel=poly; total time=   0.0s\n",
      "[CV] END .............C=0.5, coef0=0, gamma=0.1, kernel=poly; total time=   0.0s\n",
      "[CV] END .............C=0.5, coef0=0, gamma=0.1, kernel=poly; total time=   0.0s\n",
      "[CV] END .............C=0.5, coef0=0, gamma=0.05, kernel=rbf; total time=   0.0s\n",
      "[CV] END .............C=0.5, coef0=0, gamma=0.05, kernel=rbf; total time=   0.0s\n",
      "[CV] END .............C=0.5, coef0=0, gamma=0.05, kernel=rbf; total time=   0.0s\n",
      "[CV] END ............C=0.5, coef0=0, gamma=0.05, kernel=poly; total time=   0.0s\n",
      "[CV] END ............C=0.5, coef0=0, gamma=0.05, kernel=poly; total time=   0.0s\n",
      "[CV] END ............C=0.5, coef0=0, gamma=0.05, kernel=poly; total time=   0.0s\n",
      "[CV] END .............C=0.5, coef0=0, gamma=0.01, kernel=rbf; total time=   0.0s\n",
      "[CV] END .............C=0.5, coef0=0, gamma=0.01, kernel=rbf; total time=   0.0s\n",
      "[CV] END .............C=0.5, coef0=0, gamma=0.01, kernel=rbf; total time=   0.0s\n",
      "[CV] END ............C=0.5, coef0=0, gamma=0.01, kernel=poly; total time=   0.0s\n",
      "[CV] END ............C=0.5, coef0=0, gamma=0.01, kernel=poly; total time=   0.0s\n",
      "[CV] END ............C=0.5, coef0=0, gamma=0.01, kernel=poly; total time=   0.0s\n",
      "[CV] END ............C=0.5, coef0=0, gamma=0.001, kernel=rbf; total time=   0.0s\n",
      "[CV] END ............C=0.5, coef0=0, gamma=0.001, kernel=rbf; total time=   0.0s\n",
      "[CV] END ............C=0.5, coef0=0, gamma=0.001, kernel=rbf; total time=   0.0s\n",
      "[CV] END ...........C=0.5, coef0=0, gamma=0.001, kernel=poly; total time=   0.0s\n",
      "[CV] END ...........C=0.5, coef0=0, gamma=0.001, kernel=poly; total time=   0.0s\n",
      "[CV] END ...........C=0.5, coef0=0, gamma=0.001, kernel=poly; total time=   0.0s\n",
      "[CV] END ............C=0.5, coef0=0, gamma=0.002, kernel=rbf; total time=   0.0s\n",
      "[CV] END ............C=0.5, coef0=0, gamma=0.002, kernel=rbf; total time=   0.0s\n",
      "[CV] END ............C=0.5, coef0=0, gamma=0.002, kernel=rbf; total time=   0.0s\n",
      "[CV] END ...........C=0.5, coef0=0, gamma=0.002, kernel=poly; total time=   0.0s\n",
      "[CV] END ...........C=0.5, coef0=0, gamma=0.002, kernel=poly; total time=   0.0s\n",
      "[CV] END ...........C=0.5, coef0=0, gamma=0.002, kernel=poly; total time=   0.0s\n",
      "[CV] END ............C=0.5, coef0=0, gamma=0.005, kernel=rbf; total time=   0.0s\n",
      "[CV] END ............C=0.5, coef0=0, gamma=0.005, kernel=rbf; total time=   0.0s\n",
      "[CV] END ............C=0.5, coef0=0, gamma=0.005, kernel=rbf; total time=   0.0s\n",
      "[CV] END ...........C=0.5, coef0=0, gamma=0.005, kernel=poly; total time=   0.0s\n",
      "[CV] END ...........C=0.5, coef0=0, gamma=0.005, kernel=poly; total time=   0.0s\n",
      "[CV] END ...........C=0.5, coef0=0, gamma=0.005, kernel=poly; total time=   0.0s\n",
      "[CV] END ..............C=0.5, coef0=1, gamma=0.1, kernel=rbf; total time=   0.0s\n",
      "[CV] END ..............C=0.5, coef0=1, gamma=0.1, kernel=rbf; total time=   0.1s\n",
      "[CV] END ..............C=0.5, coef0=1, gamma=0.1, kernel=rbf; total time=   0.0s\n",
      "[CV] END .............C=0.5, coef0=1, gamma=0.1, kernel=poly; total time=   0.0s\n",
      "[CV] END .............C=0.5, coef0=1, gamma=0.1, kernel=poly; total time=   0.0s\n",
      "[CV] END .............C=0.5, coef0=1, gamma=0.1, kernel=poly; total time=   0.0s\n",
      "[CV] END .............C=0.5, coef0=1, gamma=0.05, kernel=rbf; total time=   0.0s\n",
      "[CV] END .............C=0.5, coef0=1, gamma=0.05, kernel=rbf; total time=   0.0s\n",
      "[CV] END .............C=0.5, coef0=1, gamma=0.05, kernel=rbf; total time=   0.0s\n",
      "[CV] END ............C=0.5, coef0=1, gamma=0.05, kernel=poly; total time=   0.0s\n",
      "[CV] END ............C=0.5, coef0=1, gamma=0.05, kernel=poly; total time=   0.0s\n",
      "[CV] END ............C=0.5, coef0=1, gamma=0.05, kernel=poly; total time=   0.0s\n",
      "[CV] END .............C=0.5, coef0=1, gamma=0.01, kernel=rbf; total time=   0.0s\n",
      "[CV] END .............C=0.5, coef0=1, gamma=0.01, kernel=rbf; total time=   0.0s\n",
      "[CV] END .............C=0.5, coef0=1, gamma=0.01, kernel=rbf; total time=   0.0s\n",
      "[CV] END ............C=0.5, coef0=1, gamma=0.01, kernel=poly; total time=   0.0s\n",
      "[CV] END ............C=0.5, coef0=1, gamma=0.01, kernel=poly; total time=   0.0s\n",
      "[CV] END ............C=0.5, coef0=1, gamma=0.01, kernel=poly; total time=   0.0s\n",
      "[CV] END ............C=0.5, coef0=1, gamma=0.001, kernel=rbf; total time=   0.0s\n",
      "[CV] END ............C=0.5, coef0=1, gamma=0.001, kernel=rbf; total time=   0.0s\n",
      "[CV] END ............C=0.5, coef0=1, gamma=0.001, kernel=rbf; total time=   0.0s\n",
      "[CV] END ...........C=0.5, coef0=1, gamma=0.001, kernel=poly; total time=   0.0s\n",
      "[CV] END ...........C=0.5, coef0=1, gamma=0.001, kernel=poly; total time=   0.0s\n",
      "[CV] END ...........C=0.5, coef0=1, gamma=0.001, kernel=poly; total time=   0.0s\n",
      "[CV] END ............C=0.5, coef0=1, gamma=0.002, kernel=rbf; total time=   0.0s\n",
      "[CV] END ............C=0.5, coef0=1, gamma=0.002, kernel=rbf; total time=   0.0s\n",
      "[CV] END ............C=0.5, coef0=1, gamma=0.002, kernel=rbf; total time=   0.0s\n",
      "[CV] END ...........C=0.5, coef0=1, gamma=0.002, kernel=poly; total time=   0.0s\n",
      "[CV] END ...........C=0.5, coef0=1, gamma=0.002, kernel=poly; total time=   0.0s\n",
      "[CV] END ...........C=0.5, coef0=1, gamma=0.002, kernel=poly; total time=   0.0s\n",
      "[CV] END ............C=0.5, coef0=1, gamma=0.005, kernel=rbf; total time=   0.0s\n",
      "[CV] END ............C=0.5, coef0=1, gamma=0.005, kernel=rbf; total time=   0.0s\n",
      "[CV] END ............C=0.5, coef0=1, gamma=0.005, kernel=rbf; total time=   0.0s\n",
      "[CV] END ...........C=0.5, coef0=1, gamma=0.005, kernel=poly; total time=   0.0s\n",
      "[CV] END ...........C=0.5, coef0=1, gamma=0.005, kernel=poly; total time=   0.0s\n",
      "[CV] END ...........C=0.5, coef0=1, gamma=0.005, kernel=poly; total time=   0.0s\n",
      "[CV] END ................C=1, coef0=0, gamma=0.1, kernel=rbf; total time=   0.1s\n",
      "[CV] END ................C=1, coef0=0, gamma=0.1, kernel=rbf; total time=   0.0s\n",
      "[CV] END ................C=1, coef0=0, gamma=0.1, kernel=rbf; total time=   0.0s\n",
      "[CV] END ...............C=1, coef0=0, gamma=0.1, kernel=poly; total time=   0.0s\n",
      "[CV] END ...............C=1, coef0=0, gamma=0.1, kernel=poly; total time=   0.0s\n",
      "[CV] END ...............C=1, coef0=0, gamma=0.1, kernel=poly; total time=   0.0s\n",
      "[CV] END ...............C=1, coef0=0, gamma=0.05, kernel=rbf; total time=   0.1s\n",
      "[CV] END ...............C=1, coef0=0, gamma=0.05, kernel=rbf; total time=   0.0s\n",
      "[CV] END ...............C=1, coef0=0, gamma=0.05, kernel=rbf; total time=   0.0s\n",
      "[CV] END ..............C=1, coef0=0, gamma=0.05, kernel=poly; total time=   0.0s\n",
      "[CV] END ..............C=1, coef0=0, gamma=0.05, kernel=poly; total time=   0.0s\n",
      "[CV] END ..............C=1, coef0=0, gamma=0.05, kernel=poly; total time=   0.0s\n",
      "[CV] END ...............C=1, coef0=0, gamma=0.01, kernel=rbf; total time=   0.0s\n",
      "[CV] END ...............C=1, coef0=0, gamma=0.01, kernel=rbf; total time=   0.0s\n",
      "[CV] END ...............C=1, coef0=0, gamma=0.01, kernel=rbf; total time=   0.0s\n",
      "[CV] END ..............C=1, coef0=0, gamma=0.01, kernel=poly; total time=   0.0s\n",
      "[CV] END ..............C=1, coef0=0, gamma=0.01, kernel=poly; total time=   0.0s\n",
      "[CV] END ..............C=1, coef0=0, gamma=0.01, kernel=poly; total time=   0.0s\n",
      "[CV] END ..............C=1, coef0=0, gamma=0.001, kernel=rbf; total time=   0.0s\n",
      "[CV] END ..............C=1, coef0=0, gamma=0.001, kernel=rbf; total time=   0.0s\n",
      "[CV] END ..............C=1, coef0=0, gamma=0.001, kernel=rbf; total time=   0.0s\n",
      "[CV] END .............C=1, coef0=0, gamma=0.001, kernel=poly; total time=   0.0s\n",
      "[CV] END .............C=1, coef0=0, gamma=0.001, kernel=poly; total time=   0.0s\n",
      "[CV] END .............C=1, coef0=0, gamma=0.001, kernel=poly; total time=   0.0s\n",
      "[CV] END ..............C=1, coef0=0, gamma=0.002, kernel=rbf; total time=   0.0s\n",
      "[CV] END ..............C=1, coef0=0, gamma=0.002, kernel=rbf; total time=   0.0s\n",
      "[CV] END ..............C=1, coef0=0, gamma=0.002, kernel=rbf; total time=   0.0s\n",
      "[CV] END .............C=1, coef0=0, gamma=0.002, kernel=poly; total time=   0.0s\n",
      "[CV] END .............C=1, coef0=0, gamma=0.002, kernel=poly; total time=   0.0s\n",
      "[CV] END .............C=1, coef0=0, gamma=0.002, kernel=poly; total time=   0.0s\n"
     ]
    },
    {
     "name": "stdout",
     "output_type": "stream",
     "text": [
      "[CV] END ..............C=1, coef0=0, gamma=0.005, kernel=rbf; total time=   0.0s\n",
      "[CV] END ..............C=1, coef0=0, gamma=0.005, kernel=rbf; total time=   0.0s\n",
      "[CV] END ..............C=1, coef0=0, gamma=0.005, kernel=rbf; total time=   0.0s\n",
      "[CV] END .............C=1, coef0=0, gamma=0.005, kernel=poly; total time=   0.0s\n",
      "[CV] END .............C=1, coef0=0, gamma=0.005, kernel=poly; total time=   0.0s\n",
      "[CV] END .............C=1, coef0=0, gamma=0.005, kernel=poly; total time=   0.0s\n",
      "[CV] END ................C=1, coef0=1, gamma=0.1, kernel=rbf; total time=   0.0s\n",
      "[CV] END ................C=1, coef0=1, gamma=0.1, kernel=rbf; total time=   0.0s\n",
      "[CV] END ................C=1, coef0=1, gamma=0.1, kernel=rbf; total time=   0.1s\n",
      "[CV] END ...............C=1, coef0=1, gamma=0.1, kernel=poly; total time=   0.0s\n",
      "[CV] END ...............C=1, coef0=1, gamma=0.1, kernel=poly; total time=   0.0s\n",
      "[CV] END ...............C=1, coef0=1, gamma=0.1, kernel=poly; total time=   0.0s\n",
      "[CV] END ...............C=1, coef0=1, gamma=0.05, kernel=rbf; total time=   0.0s\n",
      "[CV] END ...............C=1, coef0=1, gamma=0.05, kernel=rbf; total time=   0.0s\n",
      "[CV] END ...............C=1, coef0=1, gamma=0.05, kernel=rbf; total time=   0.0s\n",
      "[CV] END ..............C=1, coef0=1, gamma=0.05, kernel=poly; total time=   0.0s\n",
      "[CV] END ..............C=1, coef0=1, gamma=0.05, kernel=poly; total time=   0.0s\n",
      "[CV] END ..............C=1, coef0=1, gamma=0.05, kernel=poly; total time=   0.0s\n",
      "[CV] END ...............C=1, coef0=1, gamma=0.01, kernel=rbf; total time=   0.0s\n",
      "[CV] END ...............C=1, coef0=1, gamma=0.01, kernel=rbf; total time=   0.0s\n",
      "[CV] END ...............C=1, coef0=1, gamma=0.01, kernel=rbf; total time=   0.0s\n",
      "[CV] END ..............C=1, coef0=1, gamma=0.01, kernel=poly; total time=   0.0s\n",
      "[CV] END ..............C=1, coef0=1, gamma=0.01, kernel=poly; total time=   0.0s\n",
      "[CV] END ..............C=1, coef0=1, gamma=0.01, kernel=poly; total time=   0.0s\n",
      "[CV] END ..............C=1, coef0=1, gamma=0.001, kernel=rbf; total time=   0.0s\n",
      "[CV] END ..............C=1, coef0=1, gamma=0.001, kernel=rbf; total time=   0.0s\n"
     ]
    }
   ],
   "source": [
    "model_grid.fit(x_train, y_train)"
   ]
  },
  {
   "cell_type": "code",
   "execution_count": null,
   "id": "32f15b12",
   "metadata": {},
   "outputs": [],
   "source": [
    "model_grid.best_params_"
   ]
  },
  {
   "cell_type": "code",
   "execution_count": null,
   "id": "13122e6c",
   "metadata": {},
   "outputs": [],
   "source": [
    "model_final = model_grid.best_estimator_"
   ]
  },
  {
   "cell_type": "code",
   "execution_count": null,
   "id": "083d1ec2",
   "metadata": {},
   "outputs": [],
   "source": [
    "model_final.get_params()"
   ]
  },
  {
   "cell_type": "markdown",
   "id": "816ba491",
   "metadata": {},
   "source": [
    "### Model Evaluation\n",
    "- Classification Report\n",
    "    - Precision, Recall, F1-Score\n",
    "#    \n",
    "- Kappa Score\n",
    "    - -ve (worst model)\n",
    "    - 0 to 0.5 (bad model)\n",
    "    - 0.5 to 0.7 (Good Model)\n",
    "    - 0.7 to 0.9 (Excellent Model)\n",
    "    - 0.9 to 1.0 (Perfect Model)\n",
    "#    \n",
    "- AUC(Area Under the Receiver Operating Characteristic Curve)\n",
    "    - Less than 0.5 (Worst Model)\n",
    "    - 0.5 to 0.6 (Bad Model)\n",
    "    - 0.6 to 0.8 (Good Model)\n",
    "    - 0.8 to 0.9 (Excellent Model)\n",
    "    - 0.9 to 1.0 (Perfect Model)"
   ]
  },
  {
   "cell_type": "code",
   "execution_count": null,
   "id": "e8240e56",
   "metadata": {},
   "outputs": [],
   "source": [
    "y_pred = model_final.predict(x_test)"
   ]
  },
  {
   "cell_type": "code",
   "execution_count": null,
   "id": "32b816e8",
   "metadata": {},
   "outputs": [],
   "source": [
    "y_pred"
   ]
  },
  {
   "cell_type": "markdown",
   "id": "9273c50f",
   "metadata": {},
   "source": [
    "# Generating classification report\n"
   ]
  },
  {
   "cell_type": "code",
   "execution_count": null,
   "id": "60fc5764",
   "metadata": {},
   "outputs": [],
   "source": [
    "class_report = metrics.classification_report(y_test, y_pred, output_dict = True)"
   ]
  },
  {
   "cell_type": "code",
   "execution_count": null,
   "id": "ba1400f3",
   "metadata": {},
   "outputs": [],
   "source": [
    "class_report"
   ]
  },
  {
   "cell_type": "code",
   "execution_count": null,
   "id": "7bfc3975",
   "metadata": {},
   "outputs": [],
   "source": [
    "pd.DataFrame(class_report).T"
   ]
  },
  {
   "cell_type": "markdown",
   "id": "585a1a0d",
   "metadata": {},
   "source": [
    "# Kappa Score"
   ]
  },
  {
   "cell_type": "code",
   "execution_count": null,
   "id": "4795c2dd",
   "metadata": {},
   "outputs": [],
   "source": [
    "metrics.cohen_kappa_score(y_test, y_pred)"
   ]
  },
  {
   "cell_type": "markdown",
   "id": "ba088cee",
   "metadata": {},
   "source": [
    "# Area under Curve"
   ]
  },
  {
   "cell_type": "code",
   "execution_count": null,
   "id": "da102502",
   "metadata": {},
   "outputs": [],
   "source": [
    "metrics.roc_auc_score(np.where(y_test == 'male',1,0), \n",
    "                      np.where(y_pred== 'male',1,0))"
   ]
  },
  {
   "cell_type": "markdown",
   "id": "36799202",
   "metadata": {},
   "source": [
    "# Save the model"
   ]
  },
  {
   "cell_type": "code",
   "execution_count": null,
   "id": "2a3f24e9",
   "metadata": {},
   "outputs": [],
   "source": [
    "import pickle"
   ]
  },
  {
   "cell_type": "code",
   "execution_count": null,
   "id": "3fca1bb1",
   "metadata": {},
   "outputs": [],
   "source": [
    "pickle.dump(model_final,open('./Pri_Data/gender_classification_model_svm.pickle',mode='wb'))"
   ]
  },
  {
   "cell_type": "code",
   "execution_count": null,
   "id": "9f85e3a6",
   "metadata": {},
   "outputs": [],
   "source": []
  },
  {
   "cell_type": "code",
   "execution_count": null,
   "id": "0605671e",
   "metadata": {},
   "outputs": [],
   "source": []
  },
  {
   "cell_type": "code",
   "execution_count": null,
   "id": "2ffe275f",
   "metadata": {},
   "outputs": [],
   "source": []
  }
 ],
 "metadata": {
  "kernelspec": {
   "display_name": "Python 3 (ipykernel)",
   "language": "python",
   "name": "python3"
  },
  "language_info": {
   "codemirror_mode": {
    "name": "ipython",
    "version": 3
   },
   "file_extension": ".py",
   "mimetype": "text/x-python",
   "name": "python",
   "nbconvert_exporter": "python",
   "pygments_lexer": "ipython3",
   "version": "3.9.12"
  }
 },
 "nbformat": 4,
 "nbformat_minor": 5
}
